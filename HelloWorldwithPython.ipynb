<<<<<<< HEAD
=======
# first i define a variable then i print this variable
my_string = "Hello, World!"          
print(my_string)
>>>>>>> 41513d7bd87951e25c676b36090de80d2f5e9062
