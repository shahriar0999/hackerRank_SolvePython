# first i define a variable then i print this variable
my_string = "Hello, World!"          
print(my_string)
