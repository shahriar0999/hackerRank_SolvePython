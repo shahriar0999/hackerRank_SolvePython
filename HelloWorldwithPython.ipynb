my_string = "Hello, World!"          ## first i define a variable then i print this variable
print(my_string)
