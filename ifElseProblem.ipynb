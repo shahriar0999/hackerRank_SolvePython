{
 "cells": [
  {
   "cell_type": "markdown",
   "metadata": {},
   "source": [
    "#### Task\n",
    "\n",
    "- Given an integer, , perform the following conditional actions:\n",
    "\n",
    "    - If n is odd, print Weird\n",
    "    - If n is even and in the inclusive range of  to , print Not Weird\n",
    "    - If n is even and in the inclusive range of  to , print Weird\n",
    "    - If n is even and greater than , print Not Weird"
   ]
  },
  {
   "cell_type": "code",
   "execution_count": 1,
   "metadata": {},
   "outputs": [
    {
     "name": "stdout",
     "output_type": "stream",
     "text": [
      "Weird\n"
     ]
    }
   ],
   "source": [
    "import math\n",
    "import os\n",
    "import random\n",
    "import re\n",
    "import sys\n",
    "\n",
    "\n",
    "\n",
    "if __name__ == '__main__':\n",
    "    n = int(input().strip())\n",
    "    if n % 2 == 0 :\n",
    "        if 2 <= n <= 5:\n",
    "            print('Not Weird')\n",
    "        elif 6 <= n <= 20:\n",
    "            print('Weird')\n",
    "        else:\n",
    "            print(\"Not Weird\")\n",
    "    else:\n",
    "        print('Weird')"
   ]
  }
 ],
 "metadata": {
  "kernelspec": {
   "display_name": "Python 3.10.5 64-bit",
   "language": "python",
   "name": "python3"
  },
  "language_info": {
   "codemirror_mode": {
    "name": "ipython",
    "version": 3
   },
   "file_extension": ".py",
   "mimetype": "text/x-python",
   "name": "python",
   "nbconvert_exporter": "python",
   "pygments_lexer": "ipython3",
   "version": "3.10.5"
  },
  "orig_nbformat": 4,
  "vscode": {
   "interpreter": {
    "hash": "b0b64a2f016ee3e5b88c3bf47f62c5e4c5436c8332e2363e4ba0b748169b3ebb"
   }
  }
 },
 "nbformat": 4,
 "nbformat_minor": 2
}
